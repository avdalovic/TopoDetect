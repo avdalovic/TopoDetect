{
 "cells": [
  {
   "cell_type": "code",
   "execution_count": 1,
   "metadata": {},
   "outputs": [
    {
     "name": "stdout",
     "output_type": "stream",
     "text": [
      "Combinatorial Complex with 2 nodes and cells with ranks [0, 1] and sizes (2, 1) \n",
      "Combinatorial Complex with 3 nodes and cells with ranks [0, 1] and sizes (3, 2) \n",
      "Combinatorial Complex with 4 nodes and cells with ranks [0, 1, 2] and sizes (4, 2, 1) \n",
      "Combinatorial Complex with 5 nodes and cells with ranks [0, 1, 2] and sizes (5, 3, 1) \n",
      "Combinatorial Complex with 6 nodes and cells with ranks [0, 1, 2] and sizes (6, 3, 2) \n"
     ]
    }
   ],
   "source": [
    "import toponetx as tnx\n",
    "example = tnx.CombinatorialComplex()\n",
    "\n",
    "example.add_cell([1, 2], rank=1)\n",
    "print(example)\n",
    "\n",
    "example.add_cell([1, 3], rank=1)\n",
    "print(example)\n",
    "\n",
    "example.add_cell([1, 2, 4, 3], rank=2)\n",
    "print(example)\n",
    "\n",
    "example.add_cell([2, 5], rank=1)\n",
    "print(example)\n",
    "\n",
    "example.add_cell([2, 6, 4], rank=2)\n",
    "print(example)"
   ]
  },
  {
   "cell_type": "code",
   "execution_count": null,
   "metadata": {},
   "outputs": [],
   "source": []
  }
 ],
 "metadata": {
  "kernelspec": {
   "display_name": "topox",
   "language": "python",
   "name": "python3"
  },
  "language_info": {
   "codemirror_mode": {
    "name": "ipython",
    "version": 3
   },
   "file_extension": ".py",
   "mimetype": "text/x-python",
   "name": "python",
   "nbconvert_exporter": "python",
   "pygments_lexer": "ipython3",
   "version": "3.11.11"
  }
 },
 "nbformat": 4,
 "nbformat_minor": 2
}
